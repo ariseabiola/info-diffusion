{
 "cells": [
  {
   "cell_type": "code",
   "execution_count": 1,
   "metadata": {
    "scrolled": true
   },
   "outputs": [],
   "source": [
    "%matplotlib inline\n",
    "import pandas as pd\n",
    "import numpy as np\n",
    "#import util\n",
    "# pd.set_option('display.float_format', lambda x: '%.3f' % x)\n",
    "\n",
    "import matplotlib.pyplot as plt\n",
    "import seaborn as sns\n",
    "import warnings\n",
    "warnings.filterwarnings('ignore')\n",
    "from collections import OrderedDict\n",
    "from time import time\n",
    "import os\n",
    "\n",
    "from scipy.optimize import fmin_powell\n",
    "from scipy import integrate\n",
    "\n",
    "import theano as thno\n",
    "import theano.tensor as T\n"
   ]
  },
  {
   "cell_type": "code",
   "execution_count": 2,
   "metadata": {},
   "outputs": [],
   "source": [
    "from sklearn.base import BaseEstimator, TransformerMixin\n",
    "\n",
    "class AdditionalAttributes(BaseEstimator, TransformerMixin):\n",
    "    def __init__(self, include_additional_attr = True): # no *args or **kargs\n",
    "        self.include_additional_attr = include_additional_attr\n",
    "        self.guille_feature_names = ['H', 'dest_A_1', 'dest_A_2', 'dest_A_3', 'dest_A_4', 'dest_A_5',\n",
    "                                     'dest_A_6', 'dest_I', 'dest_dTR', 'dest_hK', 'dest_hM', 'dest_mR', \n",
    "                                     'src_A_1', 'src_A_2', 'src_A_3', 'src_A_4', 'src_A_5', 'src_A_6', \n",
    "                                     'src_I', 'src_dTR', 'src_hK', 'src_hM','src_mR']\n",
    "    def fit(self, X, y=None):\n",
    "        return self  # nothing else to do\n",
    "    def transform(self, X, y=None):\n",
    "        if self.include_additional_attr:\n",
    "            return X # might need to check if this returns pandas or a numpy, i need a numpy\n",
    "        else:\n",
    "            return X[self.guille_feature_names]"
   ]
  },
  {
   "cell_type": "code",
   "execution_count": 3,
   "metadata": {},
   "outputs": [],
   "source": [
    "from joblib import dump\n",
    "\n",
    "def save_models(saveas, rnd_estimator, lr_estimator):\n",
    "    save_to = '../models/'\n",
    "    saveas = os.path.join(save_to, saveas)\n",
    "    if os.path.exists(saveas):\n",
    "        raise FileExistsError(f'The path \"{os.path.abspath(saveas)}\" already exists, ' \n",
    "                              'please choose a new name.')\n",
    "    else:\n",
    "        rfc_dir = os.path.join(saveas, 'rfc')\n",
    "        bayes_dir = os.path.join(saveas, 'bayes/')\n",
    "        \n",
    "        os.makedirs(rfc_dir)\n",
    "        os.mkdir(bayes_dir)\n",
    "    \n",
    "    # save random forest estimator\n",
    "    dump(rnd_estimator, os.path.join(rfc_dir, 'model.rnd'))\n",
    "    \n",
    "    # save bayesian logistic regression model\n",
    "    lr_estimator.save(bayes_dir)"
   ]
  },
  {
   "cell_type": "markdown",
   "metadata": {},
   "source": [
    "Set Project Parameters"
   ]
  },
  {
   "cell_type": "code",
   "execution_count": 4,
   "metadata": {},
   "outputs": [],
   "source": [
    "include_additional_attr = True\n",
    "dataset_filepath = '/Users/aaarise/Desktop/info-diffusion-master/data/raw/processed/dataset.h5'\n",
    "dataset_key = 'VHSFzdEjWnYlivX'\n",
    "\n",
    "if not os.path.exists(dataset_filepath):\n",
    "    raise FileNotFoundError(f'{os.path.abspath(dataset_filepath)} does not exist.')"
   ]
  },
  {
   "cell_type": "markdown",
   "metadata": {},
   "source": [
    "# Explore Dataset"
   ]
  },
  {
   "cell_type": "code",
   "execution_count": 5,
   "metadata": {},
   "outputs": [
    {
     "data": {
      "text/html": [
       "<div>\n",
       "<style scoped>\n",
       "    .dataframe tbody tr th:only-of-type {\n",
       "        vertical-align: middle;\n",
       "    }\n",
       "\n",
       "    .dataframe tbody tr th {\n",
       "        vertical-align: top;\n",
       "    }\n",
       "\n",
       "    .dataframe thead th {\n",
       "        text-align: right;\n",
       "    }\n",
       "</style>\n",
       "<table border=\"1\" class=\"dataframe\">\n",
       "  <thead>\n",
       "    <tr style=\"text-align: right;\">\n",
       "      <th></th>\n",
       "      <th>H</th>\n",
       "      <th>dest_A_1</th>\n",
       "      <th>dest_A_2</th>\n",
       "      <th>dest_A_3</th>\n",
       "      <th>dest_A_4</th>\n",
       "      <th>dest_A_5</th>\n",
       "      <th>dest_A_6</th>\n",
       "      <th>dest_I</th>\n",
       "      <th>dest_avg_negative_sentiment_of_tweets</th>\n",
       "      <th>dest_avg_number_followers</th>\n",
       "      <th>...</th>\n",
       "      <th>src_ratio_of_retweets_to_tweets</th>\n",
       "      <th>src_ratio_of_tweet_per_time_period_1</th>\n",
       "      <th>src_ratio_of_tweet_per_time_period_2</th>\n",
       "      <th>src_ratio_of_tweet_per_time_period_3</th>\n",
       "      <th>src_ratio_of_tweet_per_time_period_4</th>\n",
       "      <th>src_ratio_of_tweets_that_got_retweeted_per_time_period_1</th>\n",
       "      <th>src_ratio_of_tweets_that_got_retweeted_per_time_period_2</th>\n",
       "      <th>src_ratio_of_tweets_that_got_retweeted_per_time_period_3</th>\n",
       "      <th>src_ratio_of_tweets_that_got_retweeted_per_time_period_4</th>\n",
       "      <th>y</th>\n",
       "    </tr>\n",
       "  </thead>\n",
       "  <tbody>\n",
       "    <tr>\n",
       "      <th>0</th>\n",
       "      <td>0.000000</td>\n",
       "      <td>0.000000</td>\n",
       "      <td>0.400000</td>\n",
       "      <td>0.400000</td>\n",
       "      <td>0.200000</td>\n",
       "      <td>0.000000</td>\n",
       "      <td>0.000000</td>\n",
       "      <td>0.006853</td>\n",
       "      <td>1.0</td>\n",
       "      <td>0.028289</td>\n",
       "      <td>...</td>\n",
       "      <td>0.406832</td>\n",
       "      <td>0.274845</td>\n",
       "      <td>0.013975</td>\n",
       "      <td>0.387267</td>\n",
       "      <td>0.323913</td>\n",
       "      <td>0.015528</td>\n",
       "      <td>0.001553</td>\n",
       "      <td>0.034783</td>\n",
       "      <td>0.025776</td>\n",
       "      <td>0</td>\n",
       "    </tr>\n",
       "    <tr>\n",
       "      <th>1</th>\n",
       "      <td>0.000000</td>\n",
       "      <td>0.385459</td>\n",
       "      <td>0.133358</td>\n",
       "      <td>0.018634</td>\n",
       "      <td>0.036171</td>\n",
       "      <td>0.173913</td>\n",
       "      <td>0.252466</td>\n",
       "      <td>1.000000</td>\n",
       "      <td>1.0</td>\n",
       "      <td>0.449788</td>\n",
       "      <td>...</td>\n",
       "      <td>0.406832</td>\n",
       "      <td>0.274845</td>\n",
       "      <td>0.013975</td>\n",
       "      <td>0.387267</td>\n",
       "      <td>0.323913</td>\n",
       "      <td>0.015528</td>\n",
       "      <td>0.001553</td>\n",
       "      <td>0.034783</td>\n",
       "      <td>0.025776</td>\n",
       "      <td>0</td>\n",
       "    </tr>\n",
       "    <tr>\n",
       "      <th>2</th>\n",
       "      <td>0.008322</td>\n",
       "      <td>0.251245</td>\n",
       "      <td>0.033204</td>\n",
       "      <td>0.059214</td>\n",
       "      <td>0.202546</td>\n",
       "      <td>0.246265</td>\n",
       "      <td>0.207526</td>\n",
       "      <td>1.000000</td>\n",
       "      <td>1.0</td>\n",
       "      <td>0.175389</td>\n",
       "      <td>...</td>\n",
       "      <td>0.406832</td>\n",
       "      <td>0.274845</td>\n",
       "      <td>0.013975</td>\n",
       "      <td>0.387267</td>\n",
       "      <td>0.323913</td>\n",
       "      <td>0.015528</td>\n",
       "      <td>0.001553</td>\n",
       "      <td>0.034783</td>\n",
       "      <td>0.025776</td>\n",
       "      <td>0</td>\n",
       "    </tr>\n",
       "    <tr>\n",
       "      <th>3</th>\n",
       "      <td>0.001314</td>\n",
       "      <td>0.262357</td>\n",
       "      <td>0.029468</td>\n",
       "      <td>0.020913</td>\n",
       "      <td>0.188847</td>\n",
       "      <td>0.198035</td>\n",
       "      <td>0.300380</td>\n",
       "      <td>1.000000</td>\n",
       "      <td>1.0</td>\n",
       "      <td>1.000000</td>\n",
       "      <td>...</td>\n",
       "      <td>0.406832</td>\n",
       "      <td>0.274845</td>\n",
       "      <td>0.013975</td>\n",
       "      <td>0.387267</td>\n",
       "      <td>0.323913</td>\n",
       "      <td>0.015528</td>\n",
       "      <td>0.001553</td>\n",
       "      <td>0.034783</td>\n",
       "      <td>0.025776</td>\n",
       "      <td>0</td>\n",
       "    </tr>\n",
       "    <tr>\n",
       "      <th>4</th>\n",
       "      <td>0.005362</td>\n",
       "      <td>0.681957</td>\n",
       "      <td>0.116208</td>\n",
       "      <td>0.000000</td>\n",
       "      <td>0.015291</td>\n",
       "      <td>0.131498</td>\n",
       "      <td>0.055046</td>\n",
       "      <td>0.448191</td>\n",
       "      <td>1.0</td>\n",
       "      <td>0.074965</td>\n",
       "      <td>...</td>\n",
       "      <td>0.406832</td>\n",
       "      <td>0.274845</td>\n",
       "      <td>0.013975</td>\n",
       "      <td>0.387267</td>\n",
       "      <td>0.323913</td>\n",
       "      <td>0.015528</td>\n",
       "      <td>0.001553</td>\n",
       "      <td>0.034783</td>\n",
       "      <td>0.025776</td>\n",
       "      <td>0</td>\n",
       "    </tr>\n",
       "  </tbody>\n",
       "</table>\n",
       "<p>5 rows × 84 columns</p>\n",
       "</div>"
      ],
      "text/plain": [
       "          H  dest_A_1  dest_A_2  dest_A_3  dest_A_4  dest_A_5  dest_A_6  \\\n",
       "0  0.000000  0.000000  0.400000  0.400000  0.200000  0.000000  0.000000   \n",
       "1  0.000000  0.385459  0.133358  0.018634  0.036171  0.173913  0.252466   \n",
       "2  0.008322  0.251245  0.033204  0.059214  0.202546  0.246265  0.207526   \n",
       "3  0.001314  0.262357  0.029468  0.020913  0.188847  0.198035  0.300380   \n",
       "4  0.005362  0.681957  0.116208  0.000000  0.015291  0.131498  0.055046   \n",
       "\n",
       "     dest_I  dest_avg_negative_sentiment_of_tweets  dest_avg_number_followers  \\\n",
       "0  0.006853                                    1.0                   0.028289   \n",
       "1  1.000000                                    1.0                   0.449788   \n",
       "2  1.000000                                    1.0                   0.175389   \n",
       "3  1.000000                                    1.0                   1.000000   \n",
       "4  0.448191                                    1.0                   0.074965   \n",
       "\n",
       "   ...  src_ratio_of_retweets_to_tweets  src_ratio_of_tweet_per_time_period_1  \\\n",
       "0  ...                         0.406832                              0.274845   \n",
       "1  ...                         0.406832                              0.274845   \n",
       "2  ...                         0.406832                              0.274845   \n",
       "3  ...                         0.406832                              0.274845   \n",
       "4  ...                         0.406832                              0.274845   \n",
       "\n",
       "   src_ratio_of_tweet_per_time_period_2  src_ratio_of_tweet_per_time_period_3  \\\n",
       "0                              0.013975                              0.387267   \n",
       "1                              0.013975                              0.387267   \n",
       "2                              0.013975                              0.387267   \n",
       "3                              0.013975                              0.387267   \n",
       "4                              0.013975                              0.387267   \n",
       "\n",
       "   src_ratio_of_tweet_per_time_period_4  \\\n",
       "0                              0.323913   \n",
       "1                              0.323913   \n",
       "2                              0.323913   \n",
       "3                              0.323913   \n",
       "4                              0.323913   \n",
       "\n",
       "   src_ratio_of_tweets_that_got_retweeted_per_time_period_1  \\\n",
       "0                                           0.015528          \n",
       "1                                           0.015528          \n",
       "2                                           0.015528          \n",
       "3                                           0.015528          \n",
       "4                                           0.015528          \n",
       "\n",
       "   src_ratio_of_tweets_that_got_retweeted_per_time_period_2  \\\n",
       "0                                           0.001553          \n",
       "1                                           0.001553          \n",
       "2                                           0.001553          \n",
       "3                                           0.001553          \n",
       "4                                           0.001553          \n",
       "\n",
       "   src_ratio_of_tweets_that_got_retweeted_per_time_period_3  \\\n",
       "0                                           0.034783          \n",
       "1                                           0.034783          \n",
       "2                                           0.034783          \n",
       "3                                           0.034783          \n",
       "4                                           0.034783          \n",
       "\n",
       "   src_ratio_of_tweets_that_got_retweeted_per_time_period_4  y  \n",
       "0                                           0.025776         0  \n",
       "1                                           0.025776         0  \n",
       "2                                           0.025776         0  \n",
       "3                                           0.025776         0  \n",
       "4                                           0.025776         0  \n",
       "\n",
       "[5 rows x 84 columns]"
      ]
     },
     "execution_count": 5,
     "metadata": {},
     "output_type": "execute_result"
    }
   ],
   "source": [
    "# dataset = pd.read_csv(dataset_filepath)\n",
    "dataset = pd.read_hdf(dataset_filepath, key=dataset_key)\n",
    "\n",
    "# Remove user_ids from dataframe\n",
    "dataset = dataset.drop(['src_user_id', 'dest_user_id'], axis=1)\n",
    "dataset.head()"
   ]
  },
  {
   "cell_type": "code",
   "execution_count": 6,
   "metadata": {},
   "outputs": [
    {
     "name": "stdout",
     "output_type": "stream",
     "text": [
      "<class 'pandas.core.frame.DataFrame'>\n",
      "Int64Index: 27555 entries, 0 to 27554\n",
      "Data columns (total 84 columns):\n",
      "H                                                            27555 non-null float64\n",
      "dest_A_1                                                     27555 non-null float64\n",
      "dest_A_2                                                     27555 non-null float64\n",
      "dest_A_3                                                     27555 non-null float64\n",
      "dest_A_4                                                     27555 non-null float64\n",
      "dest_A_5                                                     27555 non-null float64\n",
      "dest_A_6                                                     27555 non-null float64\n",
      "dest_I                                                       27555 non-null float64\n",
      "dest_avg_negative_sentiment_of_tweets                        27555 non-null float64\n",
      "dest_avg_number_followers                                    27555 non-null float64\n",
      "dest_avg_number_friends                                      27555 non-null float64\n",
      "dest_avg_number_of_media_in_retweets                         27555 non-null float64\n",
      "dest_avg_number_of_media_in_tweets                           27555 non-null float64\n",
      "dest_avg_number_of_mentions_not_including_retweets           27555 non-null float64\n",
      "dest_avg_number_of_retweets                                  27555 non-null float64\n",
      "dest_avg_number_of_retweets_with_hastags                     27555 non-null float64\n",
      "dest_avg_number_of_tweets                                    27555 non-null float64\n",
      "dest_avg_number_of_tweets_with_hastags                       27555 non-null float64\n",
      "dest_avg_positive_sentiment_of_tweets                        27555 non-null float64\n",
      "dest_avg_url_per_retweet                                     27555 non-null float64\n",
      "dest_avg_url_per_tweet                                       27555 non-null float64\n",
      "dest_dTR                                                     27555 non-null float64\n",
      "dest_description                                             27555 non-null int64\n",
      "dest_hK                                                      27555 non-null int64\n",
      "dest_hM                                                      27555 non-null int64\n",
      "dest_mR                                                      27555 non-null float64\n",
      "dest_ratio_of_favorited_to_tweet                             27555 non-null float64\n",
      "dest_ratio_of_follower_to_friends                            27555 non-null int64\n",
      "dest_ratio_of_mentions_to_tweet                              27555 non-null float64\n",
      "dest_ratio_of_retweet_per_time_period_1                      27555 non-null float64\n",
      "dest_ratio_of_retweet_per_time_period_2                      27555 non-null float64\n",
      "dest_ratio_of_retweet_per_time_period_3                      27555 non-null float64\n",
      "dest_ratio_of_retweet_per_time_period_4                      27555 non-null float64\n",
      "dest_ratio_of_retweets_to_tweets                             27555 non-null float64\n",
      "dest_ratio_of_tweet_per_time_period_1                        27555 non-null float64\n",
      "dest_ratio_of_tweet_per_time_period_2                        27555 non-null float64\n",
      "dest_ratio_of_tweet_per_time_period_3                        27555 non-null float64\n",
      "dest_ratio_of_tweet_per_time_period_4                        27555 non-null float64\n",
      "dest_ratio_of_tweets_that_got_retweeted_per_time_period_1    27555 non-null float64\n",
      "dest_ratio_of_tweets_that_got_retweeted_per_time_period_2    27555 non-null float64\n",
      "dest_ratio_of_tweets_that_got_retweeted_per_time_period_3    27555 non-null float64\n",
      "dest_ratio_of_tweets_that_got_retweeted_per_time_period_4    27555 non-null float64\n",
      "src_A_1                                                      27555 non-null float64\n",
      "src_A_2                                                      27555 non-null float64\n",
      "src_A_3                                                      27555 non-null float64\n",
      "src_A_4                                                      27555 non-null float64\n",
      "src_A_5                                                      27555 non-null float64\n",
      "src_A_6                                                      27555 non-null float64\n",
      "src_I                                                        27555 non-null float64\n",
      "src_avg_negative_sentiment_of_tweets                         27555 non-null float64\n",
      "src_avg_number_followers                                     27555 non-null float64\n",
      "src_avg_number_friends                                       27555 non-null float64\n",
      "src_avg_number_of_media_in_retweets                          27555 non-null float64\n",
      "src_avg_number_of_media_in_tweets                            27555 non-null float64\n",
      "src_avg_number_of_mentions_not_including_retweets            27555 non-null float64\n",
      "src_avg_number_of_retweets                                   27555 non-null float64\n",
      "src_avg_number_of_retweets_with_hastags                      27555 non-null float64\n",
      "src_avg_number_of_tweets                                     27555 non-null float64\n",
      "src_avg_number_of_tweets_with_hastags                        27555 non-null float64\n",
      "src_avg_positive_sentiment_of_tweets                         27555 non-null float64\n",
      "src_avg_url_per_retweet                                      27555 non-null float64\n",
      "src_avg_url_per_tweet                                        27555 non-null float64\n",
      "src_dTR                                                      27555 non-null float64\n",
      "src_description                                              27555 non-null int64\n",
      "src_hK                                                       27555 non-null int64\n",
      "src_hM                                                       27555 non-null int64\n",
      "src_mR                                                       27555 non-null float64\n",
      "src_ratio_of_favorited_to_tweet                              27555 non-null float64\n",
      "src_ratio_of_follower_to_friends                             27555 non-null int64\n",
      "src_ratio_of_mentions_to_tweet                               27555 non-null float64\n",
      "src_ratio_of_retweet_per_time_period_1                       27555 non-null float64\n",
      "src_ratio_of_retweet_per_time_period_2                       27555 non-null float64\n",
      "src_ratio_of_retweet_per_time_period_3                       27555 non-null float64\n",
      "src_ratio_of_retweet_per_time_period_4                       27555 non-null float64\n",
      "src_ratio_of_retweets_to_tweets                              27555 non-null float64\n",
      "src_ratio_of_tweet_per_time_period_1                         27555 non-null float64\n",
      "src_ratio_of_tweet_per_time_period_2                         27555 non-null float64\n",
      "src_ratio_of_tweet_per_time_period_3                         27555 non-null float64\n",
      "src_ratio_of_tweet_per_time_period_4                         27555 non-null float64\n",
      "src_ratio_of_tweets_that_got_retweeted_per_time_period_1     27555 non-null float64\n",
      "src_ratio_of_tweets_that_got_retweeted_per_time_period_2     27555 non-null float64\n",
      "src_ratio_of_tweets_that_got_retweeted_per_time_period_3     27555 non-null float64\n",
      "src_ratio_of_tweets_that_got_retweeted_per_time_period_4     27555 non-null float64\n",
      "y                                                            27555 non-null int64\n",
      "dtypes: float64(75), int64(9)\n",
      "memory usage: 17.9 MB\n"
     ]
    }
   ],
   "source": [
    "dataset.info()"
   ]
  },
  {
   "cell_type": "code",
   "execution_count": 7,
   "metadata": {},
   "outputs": [
    {
     "data": {
      "text/html": [
       "<div>\n",
       "<style scoped>\n",
       "    .dataframe tbody tr th:only-of-type {\n",
       "        vertical-align: middle;\n",
       "    }\n",
       "\n",
       "    .dataframe tbody tr th {\n",
       "        vertical-align: top;\n",
       "    }\n",
       "\n",
       "    .dataframe thead th {\n",
       "        text-align: right;\n",
       "    }\n",
       "</style>\n",
       "<table border=\"1\" class=\"dataframe\">\n",
       "  <thead>\n",
       "    <tr style=\"text-align: right;\">\n",
       "      <th></th>\n",
       "      <th>H</th>\n",
       "      <th>dest_A_1</th>\n",
       "      <th>dest_A_2</th>\n",
       "      <th>dest_A_3</th>\n",
       "      <th>dest_A_4</th>\n",
       "      <th>dest_A_5</th>\n",
       "      <th>dest_A_6</th>\n",
       "      <th>dest_I</th>\n",
       "      <th>dest_avg_negative_sentiment_of_tweets</th>\n",
       "      <th>dest_avg_number_followers</th>\n",
       "      <th>...</th>\n",
       "      <th>src_ratio_of_retweets_to_tweets</th>\n",
       "      <th>src_ratio_of_tweet_per_time_period_1</th>\n",
       "      <th>src_ratio_of_tweet_per_time_period_2</th>\n",
       "      <th>src_ratio_of_tweet_per_time_period_3</th>\n",
       "      <th>src_ratio_of_tweet_per_time_period_4</th>\n",
       "      <th>src_ratio_of_tweets_that_got_retweeted_per_time_period_1</th>\n",
       "      <th>src_ratio_of_tweets_that_got_retweeted_per_time_period_2</th>\n",
       "      <th>src_ratio_of_tweets_that_got_retweeted_per_time_period_3</th>\n",
       "      <th>src_ratio_of_tweets_that_got_retweeted_per_time_period_4</th>\n",
       "      <th>y</th>\n",
       "    </tr>\n",
       "  </thead>\n",
       "  <tbody>\n",
       "    <tr>\n",
       "      <th>count</th>\n",
       "      <td>27555.000000</td>\n",
       "      <td>27555.000000</td>\n",
       "      <td>27555.000000</td>\n",
       "      <td>27555.000000</td>\n",
       "      <td>27555.000000</td>\n",
       "      <td>27555.000000</td>\n",
       "      <td>27555.000000</td>\n",
       "      <td>27555.000000</td>\n",
       "      <td>27555.0</td>\n",
       "      <td>27555.000000</td>\n",
       "      <td>...</td>\n",
       "      <td>27555.000000</td>\n",
       "      <td>27555.000000</td>\n",
       "      <td>27555.000000</td>\n",
       "      <td>27555.000000</td>\n",
       "      <td>27555.000000</td>\n",
       "      <td>27555.000000</td>\n",
       "      <td>27555.000000</td>\n",
       "      <td>27555.000000</td>\n",
       "      <td>27555.000000</td>\n",
       "      <td>27555.000000</td>\n",
       "    </tr>\n",
       "    <tr>\n",
       "      <th>mean</th>\n",
       "      <td>0.007352</td>\n",
       "      <td>0.235696</td>\n",
       "      <td>0.088398</td>\n",
       "      <td>0.026114</td>\n",
       "      <td>0.180951</td>\n",
       "      <td>0.253889</td>\n",
       "      <td>0.214951</td>\n",
       "      <td>0.647947</td>\n",
       "      <td>1.0</td>\n",
       "      <td>0.498483</td>\n",
       "      <td>...</td>\n",
       "      <td>0.529141</td>\n",
       "      <td>0.301540</td>\n",
       "      <td>0.058045</td>\n",
       "      <td>0.304709</td>\n",
       "      <td>0.335706</td>\n",
       "      <td>0.128372</td>\n",
       "      <td>0.027521</td>\n",
       "      <td>0.135878</td>\n",
       "      <td>0.139539</td>\n",
       "      <td>0.008746</td>\n",
       "    </tr>\n",
       "    <tr>\n",
       "      <th>std</th>\n",
       "      <td>0.052017</td>\n",
       "      <td>0.120632</td>\n",
       "      <td>0.095023</td>\n",
       "      <td>0.050082</td>\n",
       "      <td>0.102471</td>\n",
       "      <td>0.106671</td>\n",
       "      <td>0.069182</td>\n",
       "      <td>0.393327</td>\n",
       "      <td>0.0</td>\n",
       "      <td>0.387708</td>\n",
       "      <td>...</td>\n",
       "      <td>0.258748</td>\n",
       "      <td>0.136608</td>\n",
       "      <td>0.087527</td>\n",
       "      <td>0.130035</td>\n",
       "      <td>0.100345</td>\n",
       "      <td>0.110684</td>\n",
       "      <td>0.053275</td>\n",
       "      <td>0.116774</td>\n",
       "      <td>0.104045</td>\n",
       "      <td>0.093113</td>\n",
       "    </tr>\n",
       "    <tr>\n",
       "      <th>min</th>\n",
       "      <td>0.000000</td>\n",
       "      <td>0.000000</td>\n",
       "      <td>0.000000</td>\n",
       "      <td>0.000000</td>\n",
       "      <td>0.000000</td>\n",
       "      <td>0.000000</td>\n",
       "      <td>0.000000</td>\n",
       "      <td>0.002741</td>\n",
       "      <td>1.0</td>\n",
       "      <td>0.000000</td>\n",
       "      <td>...</td>\n",
       "      <td>0.000000</td>\n",
       "      <td>0.000000</td>\n",
       "      <td>0.000000</td>\n",
       "      <td>0.000000</td>\n",
       "      <td>0.000000</td>\n",
       "      <td>0.000000</td>\n",
       "      <td>0.000000</td>\n",
       "      <td>0.000000</td>\n",
       "      <td>0.000000</td>\n",
       "      <td>0.000000</td>\n",
       "    </tr>\n",
       "    <tr>\n",
       "      <th>25%</th>\n",
       "      <td>0.000000</td>\n",
       "      <td>0.173503</td>\n",
       "      <td>0.021874</td>\n",
       "      <td>0.003085</td>\n",
       "      <td>0.118475</td>\n",
       "      <td>0.200821</td>\n",
       "      <td>0.174806</td>\n",
       "      <td>0.226151</td>\n",
       "      <td>1.0</td>\n",
       "      <td>0.134371</td>\n",
       "      <td>...</td>\n",
       "      <td>0.333333</td>\n",
       "      <td>0.229355</td>\n",
       "      <td>0.013289</td>\n",
       "      <td>0.226198</td>\n",
       "      <td>0.284468</td>\n",
       "      <td>0.040470</td>\n",
       "      <td>0.003111</td>\n",
       "      <td>0.053042</td>\n",
       "      <td>0.057259</td>\n",
       "      <td>0.000000</td>\n",
       "    </tr>\n",
       "    <tr>\n",
       "      <th>50%</th>\n",
       "      <td>0.000000</td>\n",
       "      <td>0.221613</td>\n",
       "      <td>0.066421</td>\n",
       "      <td>0.010597</td>\n",
       "      <td>0.174701</td>\n",
       "      <td>0.241379</td>\n",
       "      <td>0.215332</td>\n",
       "      <td>1.000000</td>\n",
       "      <td>1.0</td>\n",
       "      <td>0.413013</td>\n",
       "      <td>...</td>\n",
       "      <td>0.511476</td>\n",
       "      <td>0.306550</td>\n",
       "      <td>0.031524</td>\n",
       "      <td>0.299220</td>\n",
       "      <td>0.336963</td>\n",
       "      <td>0.108076</td>\n",
       "      <td>0.011628</td>\n",
       "      <td>0.122427</td>\n",
       "      <td>0.116214</td>\n",
       "      <td>0.000000</td>\n",
       "    </tr>\n",
       "    <tr>\n",
       "      <th>75%</th>\n",
       "      <td>0.005917</td>\n",
       "      <td>0.311475</td>\n",
       "      <td>0.125000</td>\n",
       "      <td>0.026471</td>\n",
       "      <td>0.233546</td>\n",
       "      <td>0.286342</td>\n",
       "      <td>0.257143</td>\n",
       "      <td>1.000000</td>\n",
       "      <td>1.0</td>\n",
       "      <td>1.000000</td>\n",
       "      <td>...</td>\n",
       "      <td>0.756944</td>\n",
       "      <td>0.389474</td>\n",
       "      <td>0.065574</td>\n",
       "      <td>0.373051</td>\n",
       "      <td>0.388704</td>\n",
       "      <td>0.185862</td>\n",
       "      <td>0.032258</td>\n",
       "      <td>0.186205</td>\n",
       "      <td>0.209260</td>\n",
       "      <td>0.000000</td>\n",
       "    </tr>\n",
       "    <tr>\n",
       "      <th>max</th>\n",
       "      <td>1.000000</td>\n",
       "      <td>0.681957</td>\n",
       "      <td>0.666667</td>\n",
       "      <td>0.500000</td>\n",
       "      <td>0.666667</td>\n",
       "      <td>1.000000</td>\n",
       "      <td>0.500000</td>\n",
       "      <td>1.000000</td>\n",
       "      <td>1.0</td>\n",
       "      <td>1.000000</td>\n",
       "      <td>...</td>\n",
       "      <td>1.000000</td>\n",
       "      <td>0.798165</td>\n",
       "      <td>0.833333</td>\n",
       "      <td>1.000000</td>\n",
       "      <td>0.785714</td>\n",
       "      <td>0.666667</td>\n",
       "      <td>0.533333</td>\n",
       "      <td>1.000000</td>\n",
       "      <td>0.500000</td>\n",
       "      <td>1.000000</td>\n",
       "    </tr>\n",
       "  </tbody>\n",
       "</table>\n",
       "<p>8 rows × 84 columns</p>\n",
       "</div>"
      ],
      "text/plain": [
       "                  H      dest_A_1      dest_A_2      dest_A_3      dest_A_4  \\\n",
       "count  27555.000000  27555.000000  27555.000000  27555.000000  27555.000000   \n",
       "mean       0.007352      0.235696      0.088398      0.026114      0.180951   \n",
       "std        0.052017      0.120632      0.095023      0.050082      0.102471   \n",
       "min        0.000000      0.000000      0.000000      0.000000      0.000000   \n",
       "25%        0.000000      0.173503      0.021874      0.003085      0.118475   \n",
       "50%        0.000000      0.221613      0.066421      0.010597      0.174701   \n",
       "75%        0.005917      0.311475      0.125000      0.026471      0.233546   \n",
       "max        1.000000      0.681957      0.666667      0.500000      0.666667   \n",
       "\n",
       "           dest_A_5      dest_A_6        dest_I  \\\n",
       "count  27555.000000  27555.000000  27555.000000   \n",
       "mean       0.253889      0.214951      0.647947   \n",
       "std        0.106671      0.069182      0.393327   \n",
       "min        0.000000      0.000000      0.002741   \n",
       "25%        0.200821      0.174806      0.226151   \n",
       "50%        0.241379      0.215332      1.000000   \n",
       "75%        0.286342      0.257143      1.000000   \n",
       "max        1.000000      0.500000      1.000000   \n",
       "\n",
       "       dest_avg_negative_sentiment_of_tweets  dest_avg_number_followers  ...  \\\n",
       "count                                27555.0               27555.000000  ...   \n",
       "mean                                     1.0                   0.498483  ...   \n",
       "std                                      0.0                   0.387708  ...   \n",
       "min                                      1.0                   0.000000  ...   \n",
       "25%                                      1.0                   0.134371  ...   \n",
       "50%                                      1.0                   0.413013  ...   \n",
       "75%                                      1.0                   1.000000  ...   \n",
       "max                                      1.0                   1.000000  ...   \n",
       "\n",
       "       src_ratio_of_retweets_to_tweets  src_ratio_of_tweet_per_time_period_1  \\\n",
       "count                     27555.000000                          27555.000000   \n",
       "mean                          0.529141                              0.301540   \n",
       "std                           0.258748                              0.136608   \n",
       "min                           0.000000                              0.000000   \n",
       "25%                           0.333333                              0.229355   \n",
       "50%                           0.511476                              0.306550   \n",
       "75%                           0.756944                              0.389474   \n",
       "max                           1.000000                              0.798165   \n",
       "\n",
       "       src_ratio_of_tweet_per_time_period_2  \\\n",
       "count                          27555.000000   \n",
       "mean                               0.058045   \n",
       "std                                0.087527   \n",
       "min                                0.000000   \n",
       "25%                                0.013289   \n",
       "50%                                0.031524   \n",
       "75%                                0.065574   \n",
       "max                                0.833333   \n",
       "\n",
       "       src_ratio_of_tweet_per_time_period_3  \\\n",
       "count                          27555.000000   \n",
       "mean                               0.304709   \n",
       "std                                0.130035   \n",
       "min                                0.000000   \n",
       "25%                                0.226198   \n",
       "50%                                0.299220   \n",
       "75%                                0.373051   \n",
       "max                                1.000000   \n",
       "\n",
       "       src_ratio_of_tweet_per_time_period_4  \\\n",
       "count                          27555.000000   \n",
       "mean                               0.335706   \n",
       "std                                0.100345   \n",
       "min                                0.000000   \n",
       "25%                                0.284468   \n",
       "50%                                0.336963   \n",
       "75%                                0.388704   \n",
       "max                                0.785714   \n",
       "\n",
       "       src_ratio_of_tweets_that_got_retweeted_per_time_period_1  \\\n",
       "count                                       27555.000000          \n",
       "mean                                            0.128372          \n",
       "std                                             0.110684          \n",
       "min                                             0.000000          \n",
       "25%                                             0.040470          \n",
       "50%                                             0.108076          \n",
       "75%                                             0.185862          \n",
       "max                                             0.666667          \n",
       "\n",
       "       src_ratio_of_tweets_that_got_retweeted_per_time_period_2  \\\n",
       "count                                       27555.000000          \n",
       "mean                                            0.027521          \n",
       "std                                             0.053275          \n",
       "min                                             0.000000          \n",
       "25%                                             0.003111          \n",
       "50%                                             0.011628          \n",
       "75%                                             0.032258          \n",
       "max                                             0.533333          \n",
       "\n",
       "       src_ratio_of_tweets_that_got_retweeted_per_time_period_3  \\\n",
       "count                                       27555.000000          \n",
       "mean                                            0.135878          \n",
       "std                                             0.116774          \n",
       "min                                             0.000000          \n",
       "25%                                             0.053042          \n",
       "50%                                             0.122427          \n",
       "75%                                             0.186205          \n",
       "max                                             1.000000          \n",
       "\n",
       "       src_ratio_of_tweets_that_got_retweeted_per_time_period_4             y  \n",
       "count                                       27555.000000         27555.000000  \n",
       "mean                                            0.139539             0.008746  \n",
       "std                                             0.104045             0.093113  \n",
       "min                                             0.000000             0.000000  \n",
       "25%                                             0.057259             0.000000  \n",
       "50%                                             0.116214             0.000000  \n",
       "75%                                             0.209260             0.000000  \n",
       "max                                             0.500000             1.000000  \n",
       "\n",
       "[8 rows x 84 columns]"
      ]
     },
     "execution_count": 7,
     "metadata": {},
     "output_type": "execute_result"
    }
   ],
   "source": [
    "dataset.describe()"
   ]
  },
  {
   "cell_type": "code",
   "execution_count": 8,
   "metadata": {},
   "outputs": [
    {
     "data": {
      "text/plain": [
       "<matplotlib.axes._subplots.AxesSubplot at 0x1c20119390>"
      ]
     },
     "execution_count": 8,
     "metadata": {},
     "output_type": "execute_result"
    },
    {
     "data": {
      "image/png": "[encoded data removed]",
      "text/plain": [
       "<Figure size 432x288 with 1 Axes>"
      ]
     },
     "metadata": {
      "needs_background": "light"
     },
     "output_type": "display_data"
    }
   ],
   "source": [
    "sns.stripplot(x=\"y\", y=\"H\", data=dataset, jitter=True)"
   ]
  },
  {
   "cell_type": "code",
   "execution_count": 9,
   "metadata": {},
   "outputs": [
    {
     "data": {
      "text/plain": [
       "0    27314\n",
       "1      241\n",
       "Name: y, dtype: int64"
      ]
     },
     "execution_count": 9,
     "metadata": {},
     "output_type": "execute_result"
    }
   ],
   "source": [
    "X = dataset.drop(\"y\", axis=1) # drop labels for training set\n",
    "y = dataset[\"y\"].copy()\n",
    "\n",
    "feature_names = X.columns.values\n",
    "\n",
    "y.value_counts()"
   ]
  },
  {
   "cell_type": "code",
   "execution_count": 10,
   "metadata": {},
   "outputs": [],
   "source": [
    "from sklearn.pipeline import Pipeline\n",
    "from sklearn.preprocessing import StandardScaler\n",
    "from sklearn.impute import SimpleImputer\n",
    "\n",
    "pipeline = Pipeline([\n",
    "    ('attribs_adder', AdditionalAttributes(include_additional_attr = include_additional_attr)),\n",
    "    ('imputer', SimpleImputer(strategy=\"mean\")),\n",
    "])\n",
    "\n",
    "# ('std_scaler', StandardScaler()),\n",
    "\n",
    "X = pipeline.fit_transform(X)"
   ]
  },
  {
   "cell_type": "code",
   "execution_count": 11,
   "metadata": {},
   "outputs": [],
   "source": [
    "# resample using SMOTE balance\n",
    "from imblearn.over_sampling import SMOTE\n",
    "\n",
    "X_resampled, y_resampled = SMOTE(random_state=42).fit_resample(X, y)"
   ]
  },
  {
   "cell_type": "code",
   "execution_count": 12,
   "metadata": {},
   "outputs": [],
   "source": [
    "# column values based on whether additional attributes is true or false\n",
    "# include_additional_attr = pipeline.named_steps['attribs_adder'].include_additional_attr\n",
    "guille_feature_names = pipeline.named_steps['attribs_adder'].guille_feature_names\n",
    "\n",
    "if not include_additional_attr:\n",
    "    feature_names = guille_feature_names"
   ]
  },
  {
   "cell_type": "code",
   "execution_count": 13,
   "metadata": {},
   "outputs": [],
   "source": [
    "X_resampled = pd.DataFrame(X_resampled, columns=feature_names)\n",
    "y_resampled = pd.Series(y_resampled)"
   ]
  },
  {
   "cell_type": "code",
   "execution_count": 14,
   "metadata": {},
   "outputs": [
    {
     "data": {
      "text/plain": [
       "1    27314\n",
       "0    27314\n",
       "dtype: int64"
      ]
     },
     "execution_count": 14,
     "metadata": {},
     "output_type": "execute_result"
    }
   ],
   "source": [
    "y_resampled.value_counts()"
   ]
  },
  {
   "cell_type": "code",
   "execution_count": 15,
   "metadata": {},
   "outputs": [],
   "source": [
    "from sklearn.model_selection import train_test_split\n",
    "\n",
    "X_train, X_test, y_train, y_test = train_test_split(X_resampled, y_resampled, test_size=0.2, random_state=42)"
   ]
  },
  {
   "cell_type": "code",
   "execution_count": 16,
   "metadata": {},
   "outputs": [
    {
     "name": "stdout",
     "output_type": "stream",
     "text": [
      "x_train shape:  (43702, 83)\n",
      "y_train shape:  (43702,)\n",
      "x_test shape:  (10926, 83)\n",
      "y_test shape:  (10926,)\n"
     ]
    }
   ],
   "source": [
    "print ('x_train shape: ', X_train.shape)\n",
    "print ('y_train shape: ', y_train.shape)\n",
    "print ('x_test shape: ', X_test.shape)\n",
    "print ('y_test shape: ', y_test.shape)"
   ]
  },
  {
   "cell_type": "markdown",
   "metadata": {},
   "source": [
    "## Exploring the data"
   ]
  },
  {
   "cell_type": "code",
   "execution_count": 17,
   "metadata": {},
   "outputs": [],
   "source": [
    "#g = seaborn.pairplot(data)"
   ]
  },
  {
   "cell_type": "code",
   "execution_count": 18,
   "metadata": {},
   "outputs": [
    {
     "data": {
      "text/plain": [
       "<matplotlib.axes._subplots.AxesSubplot at 0x1c24a33e50>"
      ]
     },
     "execution_count": 18,
     "metadata": {},
     "output_type": "execute_result"
    },
    {
     "data": {
      "image/png": "[encoded data removed]",
      "text/plain": [
       "<Figure size 792x648 with 2 Axes>"
      ]
     },
     "metadata": {
      "needs_background": "light"
     },
     "output_type": "display_data"
    }
   ],
   "source": [
    "# Compute the correlation matrix\n",
    "corr = X_train.corr()\n",
    "\n",
    "# Generate a mask for the upper triangle\n",
    "mask = np.zeros_like(corr, dtype=np.bool)\n",
    "mask[np.triu_indices_from(mask)] = True\n",
    "\n",
    "# Set up the matplotlib figure\n",
    "f, ax = plt.subplots(figsize=(11, 9))\n",
    "\n",
    "# Generate a custom diverging colormap\n",
    "cmap = sns.diverging_palette(220, 10, as_cmap=True)\n",
    "\n",
    "# Draw the heatmap with the mask and correct aspect ratio\n",
    "sns.heatmap(corr, mask=mask, cmap=cmap, vmax=.3,\n",
    "            linewidths=.5, cbar_kws={\"shrink\": .5}, ax=ax)\n",
    "\n"
   ]
  },
  {
   "cell_type": "markdown",
   "metadata": {},
   "source": [
    "## Build Bayesian Logistics Regression Model"
   ]
  },
  {
   "cell_type": "code",
   "execution_count": 19,
   "metadata": {},
   "outputs": [
    {
     "ename": "NameError",
     "evalue": "name 'features' is not defined",
     "output_type": "error",
     "traceback": [
      "\u001b[0;31m---------------------------------------------------------------------------\u001b[0m",
      "\u001b[0;31mNameError\u001b[0m                                 Traceback (most recent call last)",
      "\u001b[0;32m<ipython-input-19-fd7c9491c598>\u001b[0m in \u001b[0;36m<module>\u001b[0;34m\u001b[0m\n\u001b[0;32m----> 1\u001b[0;31m \u001b[0mX\u001b[0m \u001b[0;34m=\u001b[0m \u001b[0mX_resampled\u001b[0m\u001b[0;34m[\u001b[0m\u001b[0mfeatures\u001b[0m\u001b[0;34m]\u001b[0m\u001b[0;34m\u001b[0m\u001b[0;34m\u001b[0m\u001b[0m\n\u001b[0m\u001b[1;32m      2\u001b[0m \u001b[0my\u001b[0m \u001b[0;34m=\u001b[0m \u001b[0my_resampled\u001b[0m\u001b[0;34m.\u001b[0m\u001b[0mcopy\u001b[0m\u001b[0;34m(\u001b[0m\u001b[0;34m)\u001b[0m\u001b[0;34m\u001b[0m\u001b[0;34m\u001b[0m\u001b[0m\n",
      "\u001b[0;31mNameError\u001b[0m: name 'features' is not defined"
     ]
    }
   ],
   "source": [
    "X = X_resampled[features]\n",
    "y = y_resampled.copy()"
   ]
  },
  {
   "cell_type": "code",
   "execution_count": null,
   "metadata": {},
   "outputs": [],
   "source": [
    "y.value_counts()"
   ]
  },
  {
   "cell_type": "code",
   "execution_count": null,
   "metadata": {},
   "outputs": [],
   "source": [
    "X_train, X_test, y_train, y_test = train_test_split(X, y, test_size=0.2, random_state=42)"
   ]
  },
  {
   "cell_type": "code",
   "execution_count": null,
   "metadata": {},
   "outputs": [],
   "source": [
    "print ('x_train shape: ', X_train.shape)\n",
    "print ('y_train shape: ', y_train.shape)\n",
    "print ('x_test shape: ', X_test.shape)\n",
    "print ('y_test shape: ', y_test.shape)"
   ]
  },
  {
   "cell_type": "code",
   "execution_count": null,
   "metadata": {},
   "outputs": [],
   "source": [
    "#g = seaborn.pairplot(data)"
   ]
  },
  {
   "cell_type": "code",
   "execution_count": null,
   "metadata": {},
   "outputs": [],
   "source": [
    "from sklearn.preprocessing import MinMaxScaler\n",
    "\n",
    "scaler = MinMaxScaler()\n",
    "X_train = scaler.fit_transform(X_train)\n",
    "X_test = scaler.fit_transform(X_test)"
   ]
  },
  {
   "cell_type": "code",
   "execution_count": null,
   "metadata": {},
   "outputs": [],
   "source": [
    "from pymc3_models.models.LogisticRegression import LogisticRegression\n",
    "\n",
    "LR = LogisticRegression()\n",
    "LR.fit(X_train, y_train, inference_type='nuts', inference_args={'draws': 2000})"
   ]
  },
  {
   "cell_type": "code",
   "execution_count": null,
   "metadata": {
    "scrolled": false
   },
   "outputs": [],
   "source": [
    "#az.plot_trace(LR.trace)"
   ]
  },
  {
   "cell_type": "code",
   "execution_count": null,
   "metadata": {},
   "outputs": [],
   "source": [
    "LR.summary"
   ]
  },
  {
   "cell_type": "code",
   "execution_count": null,
   "metadata": {},
   "outputs": [],
   "source": [
    "y_pred = LR.predict(X_test)"
   ]
  },
  {
   "cell_type": "code",
   "execution_count": null,
   "metadata": {},
   "outputs": [],
   "source": [
    "y_score = LR.predict_proba(X_test)"
   ]
  },
  {
   "cell_type": "markdown",
   "metadata": {},
   "source": [
    "### Performance"
   ]
  },
  {
   "cell_type": "code",
   "execution_count": null,
   "metadata": {},
   "outputs": [],
   "source": [
    "LR.score(X_test, y_test)"
   ]
  },
  {
   "cell_type": "code",
   "execution_count": null,
   "metadata": {},
   "outputs": [],
   "source": [
    "from sklearn.metrics import confusion_matrix\n",
    "\n",
    "cm = confusion_matrix(y_test, y_pred)\n",
    "cm"
   ]
  },
  {
   "cell_type": "code",
   "execution_count": null,
   "metadata": {},
   "outputs": [],
   "source": [
    "ax= plt.subplot()\n",
    "sns.heatmap(cm, annot=True, ax = ax); #annot=True to annotate cells\n",
    "\n",
    "# labels, title and ticks\n",
    "ax.set_xlabel('Predicted labels');ax.set_ylabel('True labels'); \n",
    "ax.set_title('Confusion Matrix'); \n",
    "ax.xaxis.set_ticklabels(['0', '1']); ax.yaxis.set_ticklabels(['1', '0']);"
   ]
  },
  {
   "cell_type": "code",
   "execution_count": null,
   "metadata": {},
   "outputs": [],
   "source": [
    "from sklearn.metrics import roc_auc_score\n",
    "\n",
    "roc_auc_score(y_test, y_score)"
   ]
  },
  {
   "cell_type": "code",
   "execution_count": null,
   "metadata": {},
   "outputs": [],
   "source": [
    "from sklearn.metrics import recall_score, precision_score, f1_score\n",
    "precision_score(y_test, y_pred)"
   ]
  },
  {
   "cell_type": "code",
   "execution_count": null,
   "metadata": {},
   "outputs": [],
   "source": [
    "recall_score(y_test, y_pred)"
   ]
  },
  {
   "cell_type": "code",
   "execution_count": null,
   "metadata": {},
   "outputs": [],
   "source": [
    "f1_score(y_test, y_pred)"
   ]
  },
  {
   "cell_type": "code",
   "execution_count": null,
   "metadata": {
    "scrolled": false
   },
   "outputs": [],
   "source": [
    "from sklearn.metrics import roc_curve, auc\n",
    "\n",
    "fpr, tpr, threshold = roc_curve(y_test, y_score)\n",
    "roc_auc = auc(fpr, tpr)\n",
    "\n",
    "import matplotlib.pyplot as plt\n",
    "from matplotlib.pyplot import figure as fig\n",
    "fig(num=None, figsize=(6, 4), dpi=300, facecolor='w', edgecolor='k')\n",
    "plt.rcParams[\"font.weight\"] = \"bold\"\n",
    "plt.rcParams[\"axes.labelweight\"] = \"bold\"\n",
    "plt.title('ROC curve using top-15 features', fontweight='bold')\n",
    "plt.plot(fpr, tpr, 'b', label = 'AUC = %0.2f' % roc_auc_score(y_test, y_score))\n",
    "plt.legend(loc = 'lower right')\n",
    "plt.plot([0, 1], [0, 1],'r--')\n",
    "plt.xlim([0, 1])\n",
    "plt.ylim([0, 1.01])\n",
    "plt.ylabel('True Positive Rate')\n",
    "plt.xlabel('False Positive Rate')\n",
    "plt.show()"
   ]
  },
  {
   "cell_type": "code",
   "execution_count": null,
   "metadata": {},
   "outputs": [],
   "source": [
    "save_models(saveas='big-network-full-attr-kansas-bayes', rnd_estimator=clf, lr_estimator=LR)"
   ]
  },
  {
   "cell_type": "code",
   "execution_count": null,
   "metadata": {},
   "outputs": [],
   "source": []
  }
 ],
 "metadata": {
  "kernelspec": {
   "display_name": "Python 3",
   "language": "python",
   "name": "python3"
  },
  "language_info": {
   "codemirror_mode": {
    "name": "ipython",
    "version": 3
   },
   "file_extension": ".py",
   "mimetype": "text/x-python",
   "name": "python",
   "nbconvert_exporter": "python",
   "pygments_lexer": "ipython3",
   "version": "3.6.9"
  }
 },
 "nbformat": 4,
 "nbformat_minor": 1
}
